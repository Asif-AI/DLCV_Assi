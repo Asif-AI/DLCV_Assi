{
  "nbformat": 4,
  "nbformat_minor": 0,
  "metadata": {
    "colab": {
      "provenance": [],
      "gpuType": "T4"
    },
    "kernelspec": {
      "name": "python3",
      "display_name": "Python 3"
    },
    "language_info": {
      "name": "python"
    },
    "accelerator": "GPU"
  },
  "cells": [
    {
      "cell_type": "code",
      "execution_count": 10,
      "metadata": {
        "id": "xWk9hnYNuxth"
      },
      "outputs": [],
      "source": []
    },
    {
      "cell_type": "markdown",
      "source": [
        "Practial Assignment_1.  Predict Next Sequence"
      ],
      "metadata": {
        "id": "RD34L-Ya5qA2"
      }
    },
    {
      "cell_type": "code",
      "source": [
        "import numpy as np\n",
        "from tensorflow import keras"
      ],
      "metadata": {
        "id": "wswYMYX31uKm"
      },
      "execution_count": 11,
      "outputs": []
    },
    {
      "cell_type": "code",
      "source": [
        "%cd /content/drive/MyDrive/DLCV_Assign"
      ],
      "metadata": {
        "colab": {
          "base_uri": "https://localhost:8080/"
        },
        "id": "Q18LWz2R0bF9",
        "outputId": "1e283532-5397-40a1-82be-00c686de50a9"
      },
      "execution_count": 12,
      "outputs": [
        {
          "output_type": "stream",
          "name": "stdout",
          "text": [
            "/content/drive/MyDrive/DLCV_Assign\n"
          ]
        }
      ]
    },
    {
      "cell_type": "code",
      "source": [
        "# Create a sequence list of odd numbers\n",
        "sequence_list = [2*i + 1 for i in range(100)] "
      ],
      "metadata": {
        "id": "2_elN7nf0ylr"
      },
      "execution_count": 13,
      "outputs": []
    },
    {
      "cell_type": "code",
      "source": [
        "# Preprocessing the data\n",
        "input_sequence = sequence_list[:-1]\n",
        "output_sequence = sequence_list[1:]\n"
      ],
      "metadata": {
        "id": "wbErnDm500bS"
      },
      "execution_count": 14,
      "outputs": []
    },
    {
      "cell_type": "code",
      "source": [
        "# Converting the sequences to numpy arrays\n",
        "X = np.array(input_sequence).reshape(-1, 1)\n",
        "y = np.array(output_sequence).reshape(-1, 1)\n"
      ],
      "metadata": {
        "id": "jR1VvB3E05MI"
      },
      "execution_count": 15,
      "outputs": []
    },
    {
      "cell_type": "code",
      "source": [
        "# Model Building\n",
        "model = keras.models.Sequential([\n",
        "    keras.layers.Dense(32, activation='relu', input_shape=(1,)),\n",
        "    keras.layers.Dense(16, activation='relu'),\n",
        "    keras.layers.Dense(1)\n",
        "])"
      ],
      "metadata": {
        "id": "E--v3bNQ1Chd"
      },
      "execution_count": 16,
      "outputs": []
    },
    {
      "cell_type": "code",
      "source": [
        "# Compiling the model\n",
        "model.compile(optimizer='adam', loss='mse')\n"
      ],
      "metadata": {
        "id": "7dHJ2Ldl2IR1"
      },
      "execution_count": 17,
      "outputs": []
    },
    {
      "cell_type": "code",
      "source": [
        "# Training the model\n",
        "model.fit(X, y, epochs=100, verbose=0)\n"
      ],
      "metadata": {
        "colab": {
          "base_uri": "https://localhost:8080/"
        },
        "id": "iRl5AwLV2PcH",
        "outputId": "32d8c682-10de-470c-af2d-85c75e3d1f3a"
      },
      "execution_count": 27,
      "outputs": [
        {
          "output_type": "execute_result",
          "data": {
            "text/plain": [
              "<keras.callbacks.History at 0x7f5f1c19b2b0>"
            ]
          },
          "metadata": {},
          "execution_count": 27
        }
      ]
    },
    {
      "cell_type": "code",
      "source": [
        "# Predicting the next digit in the sequence\n",
        "next_digit = model.predict([[X[16]]])\n",
        "print(f\"The next digit in the sequence is: {int(next_digit[0][0])}\")"
      ],
      "metadata": {
        "colab": {
          "base_uri": "https://localhost:8080/"
        },
        "id": "QnWziKdl2Xue",
        "outputId": "536119cc-9f7c-4052-a4dc-8546b699459c"
      },
      "execution_count": 32,
      "outputs": [
        {
          "output_type": "stream",
          "name": "stdout",
          "text": [
            "1/1 [==============================] - 0s 21ms/step\n",
            "The next digit in the sequence is: 34\n"
          ]
        }
      ]
    },
    {
      "cell_type": "code",
      "source": [
        "  "
      ],
      "metadata": {
        "id": "TCmrEsS52lfd"
      },
      "execution_count": null,
      "outputs": []
    }
  ]
}